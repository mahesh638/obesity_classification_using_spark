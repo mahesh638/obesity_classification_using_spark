{
 "cells": [
  {
   "cell_type": "code",
   "execution_count": null,
   "metadata": {
    "application/vnd.databricks.v1+cell": {
     "cellMetadata": {
      "byteLimit": 2048000,
      "rowLimit": 10000
     },
     "inputWidgets": {},
     "nuid": "4a17262d-3cb4-4c68-8bd7-8d97894365c8",
     "showTitle": false,
     "title": ""
    }
   },
   "outputs": [],
   "source": [
    "#importing required libraries\n",
    "from pyspark.sql import SparkSession\n",
    "from pyspark.ml import Pipeline\n",
    "from pyspark.ml.feature import VectorAssembler, StringIndexer, OneHotEncoder\n",
    "from pyspark.ml.classification import RandomForestClassifier\n",
    "from pyspark.ml.evaluation import MulticlassClassificationEvaluator"
   ]
  },
  {
   "cell_type": "code",
   "execution_count": null,
   "metadata": {
    "application/vnd.databricks.v1+cell": {
     "cellMetadata": {
      "byteLimit": 2048000,
      "rowLimit": 10000
     },
     "inputWidgets": {},
     "nuid": "d3a0c976-5e48-4942-bf42-2258d4388c1c",
     "showTitle": false,
     "title": ""
    }
   },
   "outputs": [],
   "source": [
    "#initializing the Spark session\n",
    "spark = SparkSession.builder \\\n",
    "    .appName(\"RandomForestExample\") \\\n",
    "    .getOrCreate()"
   ]
  },
  {
   "cell_type": "code",
   "execution_count": null,
   "metadata": {
    "application/vnd.databricks.v1+cell": {
     "cellMetadata": {
      "byteLimit": 2048000,
      "rowLimit": 10000
     },
     "inputWidgets": {},
     "nuid": "c1d566d3-7397-437f-9a8a-9c999bcc8eb0",
     "showTitle": false,
     "title": ""
    }
   },
   "outputs": [
    {
     "name": "stdout",
     "output_type": "stream",
     "text": [
      "\u001b[43mNote: you may need to restart the kernel using dbutils.library.restartPython() to use updated packages.\u001b[0m\n",
      "Collecting pymongo\n",
      "  Downloading pymongo-4.6.2-cp310-cp310-manylinux_2_17_x86_64.manylinux2014_x86_64.whl (677 kB)\n",
      "     ━━━━━━━━━━━━━━━━━━━━━━━━━━━━━━━━━━━━━━━ 677.2/677.2 kB 6.6 MB/s eta 0:00:00\n",
      "Collecting dnspython<3.0.0,>=1.16.0\n",
      "  Downloading dnspython-2.6.1-py3-none-any.whl (307 kB)\n",
      "     ━━━━━━━━━━━━━━━━━━━━━━━━━━━━━━━━━━━━━━ 307.7/307.7 kB 10.2 MB/s eta 0:00:00\n",
      "Installing collected packages: dnspython, pymongo\n",
      "Successfully installed dnspython-2.6.1 pymongo-4.6.2\n",
      "\u001b[43mNote: you may need to restart the kernel using dbutils.library.restartPython() to use updated packages.\u001b[0m\n"
     ]
    }
   ],
   "source": [
    "!pip install pymongo"
   ]
  },
  {
   "cell_type": "code",
   "execution_count": null,
   "metadata": {
    "application/vnd.databricks.v1+cell": {
     "cellMetadata": {
      "byteLimit": 2048000,
      "rowLimit": 10000
     },
     "inputWidgets": {},
     "nuid": "256e8fff-8818-420c-9d67-7f91d30fd3c0",
     "showTitle": false,
     "title": ""
    }
   },
   "outputs": [],
   "source": [
    "#initalizing connection to the Mongo database\n",
    "from pymongo import MongoClient\n",
    "client= MongoClient(\"mongodb+srv://<user_name>:<password>@cluster0.fclxeov.mongodb.net/?retryWrites=true&w=majority&appName=Cluster0\")"
   ]
  },
  {
   "cell_type": "code",
   "execution_count": null,
   "metadata": {
    "application/vnd.databricks.v1+cell": {
     "cellMetadata": {
      "byteLimit": 2048000,
      "rowLimit": 10000
     },
     "inputWidgets": {},
     "nuid": "c0a7f2cd-026c-4a55-b9bd-cb0428843038",
     "showTitle": false,
     "title": ""
    }
   },
   "outputs": [],
   "source": [
    "#Obtaining the dataset\n",
    "db_train = client.get_database('Training')\n",
    "collections = db_train.Obesity_project\n"
   ]
  },
  {
   "cell_type": "code",
   "execution_count": null,
   "metadata": {
    "application/vnd.databricks.v1+cell": {
     "cellMetadata": {
      "byteLimit": 2048000,
      "rowLimit": 10000
     },
     "inputWidgets": {},
     "nuid": "49fb512f-9928-4a71-b068-e6a391a72bd9",
     "showTitle": false,
     "title": ""
    }
   },
   "outputs": [
    {
     "data": {
      "text/plain": [
       "20758"
      ]
     },
     "execution_count": 6,
     "metadata": {},
     "output_type": "execute_result"
    }
   ],
   "source": [
    "collections.count_documents({})"
   ]
  },
  {
   "cell_type": "code",
   "execution_count": null,
   "metadata": {
    "application/vnd.databricks.v1+cell": {
     "cellMetadata": {
      "byteLimit": 2048000,
      "rowLimit": 10000
     },
     "inputWidgets": {},
     "nuid": "c104f420-5ea9-4ac5-bfdd-edf92569a20a",
     "showTitle": false,
     "title": ""
    }
   },
   "outputs": [],
   "source": [
    "train_data = list(collections.find())"
   ]
  },
  {
   "cell_type": "code",
   "execution_count": null,
   "metadata": {
    "application/vnd.databricks.v1+cell": {
     "cellMetadata": {
      "byteLimit": 2048000,
      "rowLimit": 10000
     },
     "inputWidgets": {},
     "nuid": "c14d4e64-040c-436f-9847-a469f0f75565",
     "showTitle": false,
     "title": ""
    }
   },
   "outputs": [],
   "source": [
    "#Defining the schema of the dataset\n",
    "import pyspark.sql.types as T\n",
    "schema = T.StructType([\n",
    "    T.StructField(\"_id\", T.StringType(), True),\n",
    "    T.StructField(\"id\", T.IntegerType(), True),\n",
    "    T.StructField(\"Gender\", T.StringType(), True),\n",
    "    T.StructField('family_history_with_overweight', T.StringType(), True),\n",
    "    T.StructField('FAVC', T.StringType(), True),\n",
    "    T.StructField('CAEC', T.StringType(), True),\n",
    "    T.StructField('SMOKE', T.StringType(), True),\n",
    "    T.StructField('CALC', T.StringType(), True),\n",
    "    T.StructField('MTRANS', T.StringType(), True),\n",
    "    T.StructField('NObeyesdad', T.StringType(), True),\n",
    "    T.StructField('SCC', T.StringType(), True),\n",
    "    T.StructField('Age', T.FloatType(), True),\n",
    "    T.StructField(\"Height\", T.FloatType(), True),\n",
    "    T.StructField(\"Weight\", T.FloatType(), True),\n",
    "    T.StructField('FCVC', T.FloatType(), True),\n",
    "    T.StructField('NCP', T.FloatType(), True),\n",
    "    T.StructField(\"CH2O\", T.FloatType(), True),\n",
    "    T.StructField(\"FAF\", T.FloatType(), True),\n",
    "    T.StructField(\"TUE\", T.FloatType(), True),\n",
    "])\n",
    "\n",
    "df = spark.createDataFrame(train_data, schema=schema)"
   ]
  },
  {
   "cell_type": "code",
   "execution_count": null,
   "metadata": {
    "application/vnd.databricks.v1+cell": {
     "cellMetadata": {
      "byteLimit": 2048000,
      "rowLimit": 10000
     },
     "inputWidgets": {},
     "nuid": "c9d19a98-3d81-4596-b7f4-cebf8087965e",
     "showTitle": false,
     "title": ""
    }
   },
   "outputs": [
    {
     "name": "stdout",
     "output_type": "stream",
     "text": [
      "root\n",
      " |-- _id: string (nullable = true)\n",
      " |-- id: integer (nullable = true)\n",
      " |-- Gender: string (nullable = true)\n",
      " |-- family_history_with_overweight: string (nullable = true)\n",
      " |-- FAVC: string (nullable = true)\n",
      " |-- CAEC: string (nullable = true)\n",
      " |-- SMOKE: string (nullable = true)\n",
      " |-- CALC: string (nullable = true)\n",
      " |-- MTRANS: string (nullable = true)\n",
      " |-- NObeyesdad: string (nullable = true)\n",
      " |-- SCC: string (nullable = true)\n",
      " |-- Age: float (nullable = true)\n",
      " |-- Height: float (nullable = true)\n",
      " |-- Weight: float (nullable = true)\n",
      " |-- FCVC: float (nullable = true)\n",
      " |-- NCP: float (nullable = true)\n",
      " |-- CH2O: float (nullable = true)\n",
      " |-- FAF: float (nullable = true)\n",
      " |-- TUE: float (nullable = true)\n",
      "\n"
     ]
    }
   ],
   "source": [
    "df.printSchema()"
   ]
  },
  {
   "cell_type": "code",
   "execution_count": null,
   "metadata": {
    "application/vnd.databricks.v1+cell": {
     "cellMetadata": {
      "byteLimit": 2048000,
      "rowLimit": 10000
     },
     "inputWidgets": {},
     "nuid": "a46662b5-30ea-4b85-8a68-a3f0f1070464",
     "showTitle": false,
     "title": ""
    }
   },
   "outputs": [
    {
     "name": "stdout",
     "output_type": "stream",
     "text": [
      "+---+------+---------+--------+---------+------------------------------+----+--------+--------+----------+-----+--------+---+--------+--------+---------+--------------------+-------------------+\n",
      "| id|Gender|      Age|  Height|   Weight|family_history_with_overweight|FAVC|    FCVC|     NCP|      CAEC|SMOKE|    CH2O|SCC|     FAF|     TUE|     CALC|              MTRANS|         NObeyesdad|\n",
      "+---+------+---------+--------+---------+------------------------------+----+--------+--------+----------+-----+--------+---+--------+--------+---------+--------------------+-------------------+\n",
      "|  0|  Male|24.443011|1.699998| 81.66995|                           yes| yes|     2.0|2.983297| Sometimes|   no|2.763573| no|     0.0|0.976473|Sometimes|Public_Transporta...|Overweight_Level_II|\n",
      "|  1|Female|     18.0|    1.56|     57.0|                           yes| yes|     2.0|     3.0|Frequently|   no|     2.0| no|     1.0|     1.0|       no|          Automobile|      Normal_Weight|\n",
      "|  2|Female|     18.0| 1.71146|50.165754|                           yes| yes|1.880534|1.411685| Sometimes|   no|1.910378| no|0.866045|1.673584|       no|Public_Transporta...|Insufficient_Weight|\n",
      "+---+------+---------+--------+---------+------------------------------+----+--------+--------+----------+-----+--------+---+--------+--------+---------+--------------------+-------------------+\n",
      "only showing top 3 rows\n",
      "\n"
     ]
    }
   ],
   "source": [
    "df.show(3)"
   ]
  },
  {
   "cell_type": "code",
   "execution_count": null,
   "metadata": {
    "application/vnd.databricks.v1+cell": {
     "cellMetadata": {
      "byteLimit": 2048000,
      "rowLimit": 10000
     },
     "inputWidgets": {},
     "nuid": "1675efe2-fdcf-4793-910a-9c75bb9c1b9d",
     "showTitle": false,
     "title": ""
    }
   },
   "outputs": [],
   "source": [
    "#Indexing categorical variables in the dataset\n",
    "indexer = StringIndexer(inputCols=['Gender', 'family_history_with_overweight', 'FAVC', 'CAEC', 'SMOKE', 'CALC', 'MTRANS', 'NObeyesdad', 'SCC'],\n",
    "                        outputCols=['Gender_X', 'family_history_with_overweight_X', 'FAVC_X', 'CAEC_X', 'SMOKE_X', 'CALC_X', 'MTRANS_X', 'NObeyesdad_X', 'SCC_X'])\n",
    "df_indexed = indexer.fit(df).transform(df)"
   ]
  },
  {
   "cell_type": "code",
   "execution_count": null,
   "metadata": {
    "application/vnd.databricks.v1+cell": {
     "cellMetadata": {
      "byteLimit": 2048000,
      "rowLimit": 10000
     },
     "inputWidgets": {},
     "nuid": "4eaf6ead-582c-4c46-bda1-c35f6d08b48c",
     "showTitle": false,
     "title": ""
    }
   },
   "outputs": [
    {
     "name": "stdout",
     "output_type": "stream",
     "text": [
      "root\n",
      " |-- id: integer (nullable = true)\n",
      " |-- Gender: string (nullable = true)\n",
      " |-- Age: double (nullable = true)\n",
      " |-- Height: double (nullable = true)\n",
      " |-- Weight: double (nullable = true)\n",
      " |-- family_history_with_overweight: string (nullable = true)\n",
      " |-- FAVC: string (nullable = true)\n",
      " |-- FCVC: double (nullable = true)\n",
      " |-- NCP: double (nullable = true)\n",
      " |-- CAEC: string (nullable = true)\n",
      " |-- SMOKE: string (nullable = true)\n",
      " |-- CH2O: double (nullable = true)\n",
      " |-- SCC: string (nullable = true)\n",
      " |-- FAF: double (nullable = true)\n",
      " |-- TUE: double (nullable = true)\n",
      " |-- CALC: string (nullable = true)\n",
      " |-- MTRANS: string (nullable = true)\n",
      " |-- NObeyesdad: string (nullable = true)\n",
      " |-- Gender_X: double (nullable = false)\n",
      " |-- family_history_with_overweight_X: double (nullable = false)\n",
      " |-- FAVC_X: double (nullable = false)\n",
      " |-- CAEC_X: double (nullable = false)\n",
      " |-- SMOKE_X: double (nullable = false)\n",
      " |-- CALC_X: double (nullable = false)\n",
      " |-- MTRANS_X: double (nullable = false)\n",
      " |-- NObeyesdad_X: double (nullable = false)\n",
      " |-- SCC_X: double (nullable = false)\n",
      "\n"
     ]
    }
   ],
   "source": [
    "df_indexed.printSchema()"
   ]
  },
  {
   "cell_type": "code",
   "execution_count": null,
   "metadata": {
    "application/vnd.databricks.v1+cell": {
     "cellMetadata": {
      "byteLimit": 2048000,
      "rowLimit": 10000
     },
     "inputWidgets": {},
     "nuid": "bdab9ef6-472f-401e-8791-27401091c9c1",
     "showTitle": false,
     "title": ""
    }
   },
   "outputs": [],
   "source": [
    "#One-hot encoding required variables in the dataset\n",
    "encoder = OneHotEncoder(inputCols=[\"CAEC_X\", \"CALC_X\", \"MTRANS_X\", \"NObeyesdad_X\"], outputCols=[\"CAEC_Y\", \"CALC_Y\", \"MTRANS_Y\", \"NObeyesdad_Y\"])\n",
    "df_encoded = encoder.fit(df_indexed).transform(df_indexed)\n"
   ]
  },
  {
   "cell_type": "code",
   "execution_count": null,
   "metadata": {
    "application/vnd.databricks.v1+cell": {
     "cellMetadata": {
      "byteLimit": 2048000,
      "rowLimit": 10000
     },
     "inputWidgets": {},
     "nuid": "116cd607-c86c-42c5-8510-e4f01b1ae9cf",
     "showTitle": false,
     "title": ""
    }
   },
   "outputs": [
    {
     "name": "stdout",
     "output_type": "stream",
     "text": [
      "root\n",
      " |-- id: integer (nullable = true)\n",
      " |-- Gender: string (nullable = true)\n",
      " |-- Age: double (nullable = true)\n",
      " |-- Height: double (nullable = true)\n",
      " |-- Weight: double (nullable = true)\n",
      " |-- family_history_with_overweight: string (nullable = true)\n",
      " |-- FAVC: string (nullable = true)\n",
      " |-- FCVC: double (nullable = true)\n",
      " |-- NCP: double (nullable = true)\n",
      " |-- CAEC: string (nullable = true)\n",
      " |-- SMOKE: string (nullable = true)\n",
      " |-- CH2O: double (nullable = true)\n",
      " |-- SCC: string (nullable = true)\n",
      " |-- FAF: double (nullable = true)\n",
      " |-- TUE: double (nullable = true)\n",
      " |-- CALC: string (nullable = true)\n",
      " |-- MTRANS: string (nullable = true)\n",
      " |-- NObeyesdad: string (nullable = true)\n",
      " |-- Gender_X: double (nullable = false)\n",
      " |-- family_history_with_overweight_X: double (nullable = false)\n",
      " |-- FAVC_X: double (nullable = false)\n",
      " |-- CAEC_X: double (nullable = false)\n",
      " |-- SMOKE_X: double (nullable = false)\n",
      " |-- CALC_X: double (nullable = false)\n",
      " |-- MTRANS_X: double (nullable = false)\n",
      " |-- NObeyesdad_X: double (nullable = false)\n",
      " |-- SCC_X: double (nullable = false)\n",
      " |-- CAEC_Y: vector (nullable = true)\n",
      " |-- CALC_Y: vector (nullable = true)\n",
      " |-- MTRANS_Y: vector (nullable = true)\n",
      " |-- NObeyesdad_Y: vector (nullable = true)\n",
      "\n"
     ]
    }
   ],
   "source": [
    "df_encoded.printSchema()"
   ]
  },
  {
   "cell_type": "code",
   "execution_count": null,
   "metadata": {
    "application/vnd.databricks.v1+cell": {
     "cellMetadata": {
      "byteLimit": 2048000,
      "rowLimit": 10000
     },
     "inputWidgets": {},
     "nuid": "6df211f8-da3b-479b-a9f4-adb77601ff17",
     "showTitle": false,
     "title": ""
    }
   },
   "outputs": [],
   "source": [
    "#Creating a vector assembler for running the classification\n",
    "feature_assembler = VectorAssembler(inputCols=['MTRANS_Y', 'CALC_Y', 'CAEC_Y', 'SCC_X','SMOKE_X','FAVC_X', 'family_history_with_overweight_X', 'Gender_X',\n",
    "                           'TUE', 'FAF', 'CH2O', 'NCP', 'FCVC', 'Weight', 'Height','Age'], outputCol = 'Features')\n",
    "output = feature_assembler.transform(df_encoded)"
   ]
  },
  {
   "cell_type": "code",
   "execution_count": null,
   "metadata": {
    "application/vnd.databricks.v1+cell": {
     "cellMetadata": {
      "byteLimit": 2048000,
      "rowLimit": 10000
     },
     "inputWidgets": {},
     "nuid": "dc6a5c7e-0ec3-4889-a306-87d05ac6745f",
     "showTitle": false,
     "title": ""
    }
   },
   "outputs": [],
   "source": [
    "finalized_data = output.select('Features', 'NObeyesdad_X')"
   ]
  },
  {
   "cell_type": "code",
   "execution_count": null,
   "metadata": {
    "application/vnd.databricks.v1+cell": {
     "cellMetadata": {
      "byteLimit": 2048000,
      "rowLimit": 10000
     },
     "inputWidgets": {},
     "nuid": "361a870e-991f-48c6-9ac5-ac6652965836",
     "showTitle": false,
     "title": ""
    }
   },
   "outputs": [
    {
     "name": "stdout",
     "output_type": "stream",
     "text": [
      "+--------------------+------------+\n",
      "|            Features|NObeyesdad_X|\n",
      "+--------------------+------------+\n",
      "|(22,[0,4,6,13,14,...|         5.0|\n",
      "|(22,[1,5,7,14,15,...|         2.0|\n",
      "|(22,[0,5,6,14,15,...|         4.0|\n",
      "|(22,[0,4,6,14,15,...|         0.0|\n",
      "|(22,[0,4,6,13,14,...|         5.0|\n",
      "|(22,[0,4,6,13,14,...|         4.0|\n",
      "|(22,[1,4,6,13,14,...|         1.0|\n",
      "|(22,[1,4,6,13,15,...|         1.0|\n",
      "|[1.0,0.0,0.0,0.0,...|         6.0|\n",
      "|(22,[0,4,6,14,16,...|         0.0|\n",
      "|(22,[0,4,6,15,16,...|         6.0|\n",
      "|(22,[2,5,11,13,14...|         2.0|\n",
      "|(22,[0,5,6,13,14,...|         3.0|\n",
      "|(22,[0,4,6,14,15,...|         0.0|\n",
      "|(22,[2,5,6,11,12,...|         2.0|\n",
      "|(22,[0,4,6,13,14,...|         1.0|\n",
      "|(22,[1,5,8,11,16,...|         5.0|\n",
      "|(22,[0,4,6,12,15,...|         2.0|\n",
      "|(22,[0,5,6,13,14,...|         5.0|\n",
      "|(22,[0,4,6,13,14,...|         1.0|\n",
      "+--------------------+------------+\n",
      "only showing top 20 rows\n",
      "\n"
     ]
    }
   ],
   "source": [
    "finalized_data.show()"
   ]
  },
  {
   "cell_type": "code",
   "execution_count": null,
   "metadata": {
    "application/vnd.databricks.v1+cell": {
     "cellMetadata": {
      "byteLimit": 2048000,
      "rowLimit": 10000
     },
     "inputWidgets": {},
     "nuid": "6d5eb4b8-12c4-493d-82ed-590320d3b23f",
     "showTitle": false,
     "title": ""
    }
   },
   "outputs": [],
   "source": [
    "#Running the Random Forrest Algorithm after splitting data into test and train\n",
    "(trainingData, testData) = finalized_data.randomSplit([0.7, 0.3])\n",
    "rf = RandomForestClassifier(labelCol=\"NObeyesdad_X\", featuresCol=\"Features\", maxDepth=3, numTrees=100)\n",
    "classifier = rf.fit(trainingData)\n"
   ]
  },
  {
   "cell_type": "code",
   "execution_count": null,
   "metadata": {
    "application/vnd.databricks.v1+cell": {
     "cellMetadata": {
      "byteLimit": 2048000,
      "rowLimit": 10000
     },
     "inputWidgets": {},
     "nuid": "6b434010-9dfc-47ab-b7bc-429e21e29e66",
     "showTitle": false,
     "title": ""
    }
   },
   "outputs": [],
   "source": [
    "predictions = classifier.evaluate(testData)"
   ]
  },
  {
   "cell_type": "code",
   "execution_count": null,
   "metadata": {
    "application/vnd.databricks.v1+cell": {
     "cellMetadata": {
      "byteLimit": 2048000,
      "rowLimit": 10000
     },
     "inputWidgets": {},
     "nuid": "fd844841-03e0-4ac0-94fc-69ae27db353e",
     "showTitle": false,
     "title": ""
    }
   },
   "outputs": [
    {
     "name": "stdout",
     "output_type": "stream",
     "text": [
      "+--------------------+------------+--------------------+--------------------+----------+\n",
      "|            Features|NObeyesdad_X|       rawPrediction|         probability|prediction|\n",
      "+--------------------+------------+--------------------+--------------------+----------+\n",
      "|(22,[0,4,6,9,11,1...|         4.0|[10.7468252695954...|[0.10746825269595...|       4.0|\n",
      "|(22,[0,4,6,9,11,1...|         4.0|[10.7431002803368...|[0.10743100280336...|       4.0|\n",
      "|(22,[0,4,6,9,11,1...|         5.0|[1.47512822730725...|[0.01475128227307...|       3.0|\n",
      "|(22,[0,4,6,9,11,1...|         5.0|[22.0241283828055...|[0.22024128382805...|       0.0|\n",
      "|(22,[0,4,6,9,11,1...|         6.0|[3.79126558455488...|[0.03791265584554...|       2.0|\n",
      "+--------------------+------------+--------------------+--------------------+----------+\n",
      "only showing top 5 rows\n",
      "\n"
     ]
    }
   ],
   "source": [
    "predictions.predictions.show(5)"
   ]
  },
  {
   "cell_type": "code",
   "execution_count": null,
   "metadata": {
    "application/vnd.databricks.v1+cell": {
     "cellMetadata": {
      "byteLimit": 2048000,
      "rowLimit": 10000
     },
     "inputWidgets": {},
     "nuid": "2832b9c5-9cd1-428f-a9f7-35e9391fdb41",
     "showTitle": false,
     "title": ""
    }
   },
   "outputs": [],
   "source": [
    "#Evalating to check testing accuracy\n",
    "evaluator = MulticlassClassificationEvaluator(\n",
    "    labelCol=\"NObeyesdad_X\", predictionCol=\"prediction\", metricName=\"accuracy\")\n",
    "accuracy = evaluator.evaluate(predictions.predictions)\n"
   ]
  },
  {
   "cell_type": "code",
   "execution_count": null,
   "metadata": {
    "application/vnd.databricks.v1+cell": {
     "cellMetadata": {
      "byteLimit": 2048000,
      "rowLimit": 10000
     },
     "inputWidgets": {},
     "nuid": "d56c6bc8-9614-4ca6-a8c8-9fd9286b43a9",
     "showTitle": false,
     "title": ""
    }
   },
   "outputs": [
    {
     "name": "stdout",
     "output_type": "stream",
     "text": [
      "0.8906319796954315\n"
     ]
    }
   ],
   "source": [
    "print(accuracy)"
   ]
  }
 ],
 "metadata": {
  "application/vnd.databricks.v1+notebook": {
   "dashboards": [],
   "language": "python",
   "notebookMetadata": {
    "pythonIndentUnit": 4
   },
   "notebookName": "Mongo_pyspark",
   "widgets": {}
  },
  "kernelspec": {
   "display_name": "Python 3 (ipykernel)",
   "language": "python",
   "name": "python3"
  },
  "language_info": {
   "codemirror_mode": {
    "name": "ipython",
    "version": 3
   },
   "file_extension": ".py",
   "mimetype": "text/x-python",
   "name": "python",
   "nbconvert_exporter": "python",
   "pygments_lexer": "ipython3",
   "version": "3.11.5"
  }
 },
 "nbformat": 4,
 "nbformat_minor": 4
}
